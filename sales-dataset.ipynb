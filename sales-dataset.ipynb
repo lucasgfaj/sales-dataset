{
 "cells": [
  {
   "cell_type": "code",
   "execution_count": 248,
   "id": "9c98db4a",
   "metadata": {},
   "outputs": [
    {
     "name": "stdout",
     "output_type": "stream",
     "text": [
      "Pacote já instalado: pandas\n",
      "Pacote já instalado: pymongo\n",
      "Pacote já instalado: bson\n",
      "Pacote já instalado: matplotlib\n",
      "Pacote já instalado: seaborn\n"
     ]
    }
   ],
   "source": [
    "%run dependencies/dependencies.py"
   ]
  },
  {
   "cell_type": "code",
   "execution_count": 249,
   "id": "1c379979",
   "metadata": {},
   "outputs": [],
   "source": [
    "from pymongo import MongoClient\n",
    "from bson import ObjectId\n",
    "import pandas as pd\n",
    "import json\n",
    "import os\n",
    "import matplotlib.pyplot as plt\n",
    "import seaborn as sns"
   ]
  },
  {
   "cell_type": "markdown",
   "id": "0de86510",
   "metadata": {},
   "source": [
    "Conexão com o MongoDB"
   ]
  },
  {
   "cell_type": "code",
   "execution_count": 250,
   "id": "208dd474",
   "metadata": {},
   "outputs": [],
   "source": [
    "client = MongoClient(\"mongodb://127.0.0.1:27017\")\n",
    "db = client[\"sales-dataset\"]\n",
    "collection_name = \"sales\"\n",
    "collection = db.get_collection(collection_name)"
   ]
  },
  {
   "cell_type": "markdown",
   "id": "309fba11",
   "metadata": {},
   "source": [
    " Nome do arquivo JSON na raiz"
   ]
  },
  {
   "cell_type": "code",
   "execution_count": 251,
   "id": "723b15e1",
   "metadata": {},
   "outputs": [],
   "source": [
    "export_file = \"sales-json/sales_data.json\""
   ]
  },
  {
   "cell_type": "markdown",
   "id": "79d7030c",
   "metadata": {},
   "source": [
    "Ler CSV"
   ]
  },
  {
   "cell_type": "code",
   "execution_count": 252,
   "id": "3191ebb3",
   "metadata": {},
   "outputs": [],
   "source": [
    "df = pd.read_csv(\"sales-csv/sales-dataset.csv\")"
   ]
  },
  {
   "cell_type": "markdown",
   "id": "0f9b58e3",
   "metadata": {},
   "source": [
    "Exibir Dados do CSV"
   ]
  },
  {
   "cell_type": "code",
   "execution_count": 253,
   "id": "cb54efd2",
   "metadata": {},
   "outputs": [
    {
     "data": {
      "text/html": [
       "<div>\n",
       "<style scoped>\n",
       "    .dataframe tbody tr th:only-of-type {\n",
       "        vertical-align: middle;\n",
       "    }\n",
       "\n",
       "    .dataframe tbody tr th {\n",
       "        vertical-align: top;\n",
       "    }\n",
       "\n",
       "    .dataframe thead th {\n",
       "        text-align: right;\n",
       "    }\n",
       "</style>\n",
       "<table border=\"1\" class=\"dataframe\">\n",
       "  <thead>\n",
       "    <tr style=\"text-align: right;\">\n",
       "      <th></th>\n",
       "      <th>Order ID</th>\n",
       "      <th>Amount</th>\n",
       "      <th>Profit</th>\n",
       "      <th>Quantity</th>\n",
       "      <th>Category</th>\n",
       "      <th>Sub-Category</th>\n",
       "      <th>PaymentMode</th>\n",
       "      <th>Order Date</th>\n",
       "      <th>CustomerName</th>\n",
       "      <th>State</th>\n",
       "      <th>City</th>\n",
       "      <th>Year-Month</th>\n",
       "    </tr>\n",
       "  </thead>\n",
       "  <tbody>\n",
       "    <tr>\n",
       "      <th>0</th>\n",
       "      <td>B-26776</td>\n",
       "      <td>9726</td>\n",
       "      <td>1275</td>\n",
       "      <td>5</td>\n",
       "      <td>Electronics</td>\n",
       "      <td>Electronic Games</td>\n",
       "      <td>UPI</td>\n",
       "      <td>2023-06-27</td>\n",
       "      <td>David Padilla</td>\n",
       "      <td>Florida</td>\n",
       "      <td>Miami</td>\n",
       "      <td>2023-06</td>\n",
       "    </tr>\n",
       "    <tr>\n",
       "      <th>1</th>\n",
       "      <td>B-26776</td>\n",
       "      <td>9726</td>\n",
       "      <td>1275</td>\n",
       "      <td>5</td>\n",
       "      <td>Electronics</td>\n",
       "      <td>Electronic Games</td>\n",
       "      <td>UPI</td>\n",
       "      <td>2024-12-27</td>\n",
       "      <td>Connor Morgan</td>\n",
       "      <td>Illinois</td>\n",
       "      <td>Chicago</td>\n",
       "      <td>2024-12</td>\n",
       "    </tr>\n",
       "    <tr>\n",
       "      <th>2</th>\n",
       "      <td>B-26776</td>\n",
       "      <td>9726</td>\n",
       "      <td>1275</td>\n",
       "      <td>5</td>\n",
       "      <td>Electronics</td>\n",
       "      <td>Electronic Games</td>\n",
       "      <td>UPI</td>\n",
       "      <td>2021-07-25</td>\n",
       "      <td>Robert Stone</td>\n",
       "      <td>New York</td>\n",
       "      <td>Buffalo</td>\n",
       "      <td>2021-07</td>\n",
       "    </tr>\n",
       "    <tr>\n",
       "      <th>3</th>\n",
       "      <td>B-26776</td>\n",
       "      <td>4975</td>\n",
       "      <td>1330</td>\n",
       "      <td>14</td>\n",
       "      <td>Electronics</td>\n",
       "      <td>Printers</td>\n",
       "      <td>UPI</td>\n",
       "      <td>2023-06-27</td>\n",
       "      <td>David Padilla</td>\n",
       "      <td>Florida</td>\n",
       "      <td>Miami</td>\n",
       "      <td>2023-06</td>\n",
       "    </tr>\n",
       "    <tr>\n",
       "      <th>4</th>\n",
       "      <td>B-26776</td>\n",
       "      <td>4975</td>\n",
       "      <td>1330</td>\n",
       "      <td>14</td>\n",
       "      <td>Electronics</td>\n",
       "      <td>Printers</td>\n",
       "      <td>UPI</td>\n",
       "      <td>2024-12-27</td>\n",
       "      <td>Connor Morgan</td>\n",
       "      <td>Illinois</td>\n",
       "      <td>Chicago</td>\n",
       "      <td>2024-12</td>\n",
       "    </tr>\n",
       "    <tr>\n",
       "      <th>...</th>\n",
       "      <td>...</td>\n",
       "      <td>...</td>\n",
       "      <td>...</td>\n",
       "      <td>...</td>\n",
       "      <td>...</td>\n",
       "      <td>...</td>\n",
       "      <td>...</td>\n",
       "      <td>...</td>\n",
       "      <td>...</td>\n",
       "      <td>...</td>\n",
       "      <td>...</td>\n",
       "      <td>...</td>\n",
       "    </tr>\n",
       "    <tr>\n",
       "      <th>1189</th>\n",
       "      <td>B-26370</td>\n",
       "      <td>8825</td>\n",
       "      <td>3594</td>\n",
       "      <td>15</td>\n",
       "      <td>Furniture</td>\n",
       "      <td>Tables</td>\n",
       "      <td>Debit Card</td>\n",
       "      <td>2024-07-31</td>\n",
       "      <td>Megan Mclean</td>\n",
       "      <td>New York</td>\n",
       "      <td>New York City</td>\n",
       "      <td>2024-07</td>\n",
       "    </tr>\n",
       "    <tr>\n",
       "      <th>1190</th>\n",
       "      <td>B-26298</td>\n",
       "      <td>2082</td>\n",
       "      <td>642</td>\n",
       "      <td>8</td>\n",
       "      <td>Electronics</td>\n",
       "      <td>Phones</td>\n",
       "      <td>EMI</td>\n",
       "      <td>2020-06-02</td>\n",
       "      <td>Caitlin Hunt</td>\n",
       "      <td>New York</td>\n",
       "      <td>Rochester</td>\n",
       "      <td>2020-06</td>\n",
       "    </tr>\n",
       "    <tr>\n",
       "      <th>1191</th>\n",
       "      <td>B-26298</td>\n",
       "      <td>2082</td>\n",
       "      <td>642</td>\n",
       "      <td>8</td>\n",
       "      <td>Electronics</td>\n",
       "      <td>Phones</td>\n",
       "      <td>EMI</td>\n",
       "      <td>2022-12-15</td>\n",
       "      <td>Jenna Holland</td>\n",
       "      <td>Texas</td>\n",
       "      <td>Austin</td>\n",
       "      <td>2022-12</td>\n",
       "    </tr>\n",
       "    <tr>\n",
       "      <th>1192</th>\n",
       "      <td>B-26298</td>\n",
       "      <td>2082</td>\n",
       "      <td>642</td>\n",
       "      <td>8</td>\n",
       "      <td>Electronics</td>\n",
       "      <td>Phones</td>\n",
       "      <td>EMI</td>\n",
       "      <td>2020-08-07</td>\n",
       "      <td>Stephanie Oconnell</td>\n",
       "      <td>New York</td>\n",
       "      <td>Buffalo</td>\n",
       "      <td>2020-08</td>\n",
       "    </tr>\n",
       "    <tr>\n",
       "      <th>1193</th>\n",
       "      <td>B-25068</td>\n",
       "      <td>914</td>\n",
       "      <td>163</td>\n",
       "      <td>13</td>\n",
       "      <td>Office Supplies</td>\n",
       "      <td>Markers</td>\n",
       "      <td>UPI</td>\n",
       "      <td>2024-10-26</td>\n",
       "      <td>Andrea Hill</td>\n",
       "      <td>Illinois</td>\n",
       "      <td>Chicago</td>\n",
       "      <td>2024-10</td>\n",
       "    </tr>\n",
       "  </tbody>\n",
       "</table>\n",
       "<p>1194 rows × 12 columns</p>\n",
       "</div>"
      ],
      "text/plain": [
       "     Order ID  Amount  Profit  Quantity         Category      Sub-Category  \\\n",
       "0     B-26776    9726    1275         5      Electronics  Electronic Games   \n",
       "1     B-26776    9726    1275         5      Electronics  Electronic Games   \n",
       "2     B-26776    9726    1275         5      Electronics  Electronic Games   \n",
       "3     B-26776    4975    1330        14      Electronics          Printers   \n",
       "4     B-26776    4975    1330        14      Electronics          Printers   \n",
       "...       ...     ...     ...       ...              ...               ...   \n",
       "1189  B-26370    8825    3594        15        Furniture            Tables   \n",
       "1190  B-26298    2082     642         8      Electronics            Phones   \n",
       "1191  B-26298    2082     642         8      Electronics            Phones   \n",
       "1192  B-26298    2082     642         8      Electronics            Phones   \n",
       "1193  B-25068     914     163        13  Office Supplies           Markers   \n",
       "\n",
       "     PaymentMode  Order Date        CustomerName     State           City  \\\n",
       "0            UPI  2023-06-27       David Padilla   Florida          Miami   \n",
       "1            UPI  2024-12-27       Connor Morgan  Illinois        Chicago   \n",
       "2            UPI  2021-07-25        Robert Stone  New York        Buffalo   \n",
       "3            UPI  2023-06-27       David Padilla   Florida          Miami   \n",
       "4            UPI  2024-12-27       Connor Morgan  Illinois        Chicago   \n",
       "...          ...         ...                 ...       ...            ...   \n",
       "1189  Debit Card  2024-07-31        Megan Mclean  New York  New York City   \n",
       "1190         EMI  2020-06-02        Caitlin Hunt  New York      Rochester   \n",
       "1191         EMI  2022-12-15       Jenna Holland     Texas         Austin   \n",
       "1192         EMI  2020-08-07  Stephanie Oconnell  New York        Buffalo   \n",
       "1193         UPI  2024-10-26         Andrea Hill  Illinois        Chicago   \n",
       "\n",
       "     Year-Month  \n",
       "0       2023-06  \n",
       "1       2024-12  \n",
       "2       2021-07  \n",
       "3       2023-06  \n",
       "4       2024-12  \n",
       "...         ...  \n",
       "1189    2024-07  \n",
       "1190    2020-06  \n",
       "1191    2022-12  \n",
       "1192    2020-08  \n",
       "1193    2024-10  \n",
       "\n",
       "[1194 rows x 12 columns]"
      ]
     },
     "execution_count": 253,
     "metadata": {},
     "output_type": "execute_result"
    }
   ],
   "source": [
    "df"
   ]
  },
  {
   "cell_type": "markdown",
   "id": "0c636f07",
   "metadata": {},
   "source": [
    "Apaga dados Antigo se Existir"
   ]
  },
  {
   "cell_type": "code",
   "execution_count": 254,
   "id": "8a333097",
   "metadata": {},
   "outputs": [
    {
     "data": {
      "text/plain": [
       "DeleteResult({'n': 1200, 'ok': 1.0}, acknowledged=True)"
      ]
     },
     "execution_count": 254,
     "metadata": {},
     "output_type": "execute_result"
    }
   ],
   "source": [
    "collection.delete_many({})"
   ]
  },
  {
   "cell_type": "markdown",
   "id": "8d00fc0a",
   "metadata": {},
   "source": [
    "Inserir no MongoDB"
   ]
  },
  {
   "cell_type": "code",
   "execution_count": 255,
   "id": "7097c12d",
   "metadata": {},
   "outputs": [
    {
     "name": "stdout",
     "output_type": "stream",
     "text": [
      "Inseridos 1194 registros com sucesso!\n"
     ]
    }
   ],
   "source": [
    "data_dict = df.to_dict(orient=\"records\")\n",
    "collection.insert_many(data_dict)\n",
    "print(f\"Inseridos {len(data_dict)} registros com sucesso!\")"
   ]
  },
  {
   "cell_type": "markdown",
   "id": "db5eecba",
   "metadata": {},
   "source": [
    "Deleta o arquivo JSON se já existir"
   ]
  },
  {
   "cell_type": "code",
   "execution_count": 256,
   "id": "45e7d710",
   "metadata": {},
   "outputs": [
    {
     "name": "stdout",
     "output_type": "stream",
     "text": [
      "Arquivo antigo removido: sales-json/sales_data.json\n"
     ]
    }
   ],
   "source": [
    "if os.path.exists(export_file):\n",
    "    os.remove(export_file)\n",
    "    print(f\"Arquivo antigo removido: {export_file}\")"
   ]
  },
  {
   "cell_type": "markdown",
   "id": "ba1f2f9f",
   "metadata": {},
   "source": [
    "Exporta os dados do Mongo para JSON"
   ]
  },
  {
   "cell_type": "code",
   "execution_count": 257,
   "id": "f91003c5",
   "metadata": {},
   "outputs": [],
   "source": [
    "documents = list(collection.find())"
   ]
  },
  {
   "cell_type": "markdown",
   "id": "ac06d078",
   "metadata": {},
   "source": [
    "Converte _id do ObjectId para string para JSON"
   ]
  },
  {
   "cell_type": "code",
   "execution_count": 258,
   "id": "4d636438",
   "metadata": {},
   "outputs": [
    {
     "name": "stdout",
     "output_type": "stream",
     "text": [
      "Arquivo JSON criado com sucesso: sales-json/sales_data.json\n"
     ]
    }
   ],
   "source": [
    "for doc in documents:\n",
    "    doc[\"_id\"] = str(doc[\"_id\"])\n",
    "\n",
    "with open(export_file, \"w\", encoding=\"utf-8\") as f:\n",
    "    json.dump(documents, f, indent=4, ensure_ascii=False)\n",
    "\n",
    "print(f\"Arquivo JSON criado com sucesso: {export_file}\")"
   ]
  },
  {
   "cell_type": "markdown",
   "id": "b1220ba7",
   "metadata": {},
   "source": [
    "Inserir 5 Documentos Extras Manualmente"
   ]
  },
  {
   "cell_type": "code",
   "execution_count": 259,
   "id": "e2a56957",
   "metadata": {},
   "outputs": [
    {
     "name": "stdout",
     "output_type": "stream",
     "text": [
      "5 documentos extras inseridos.\n"
     ]
    }
   ],
   "source": [
    "extras = [\n",
    "    {\"Order ID\": \"B-30001\", \"Amount\": 2000, \"Profit\": 500, \"Quantity\": 3, \"Category\": \"Clothing\", \"Sub-Category\": \"Shirts\", \"PaymentMode\": \"Credit Card\", \"Order Date\": \"2023-06-15\", \"CustomerName\": \"Ana Silva\", \"State\": \"Texas\", \"City\": \"Houston\", \"Year-Month\": \"2023-06\"},\n",
    "    {\"Order ID\": \"B-30002\", \"Amount\": 4500, \"Profit\": 900, \"Quantity\": 7, \"Category\": \"Electronics\", \"Sub-Category\": \"Phones\", \"PaymentMode\": \"Cash\", \"Order Date\": \"2023-07-10\", \"CustomerName\": \"João Pedro\", \"State\": \"California\", \"City\": \"Los Angeles\", \"Year-Month\": \"2023-07\"},\n",
    "    {\"Order ID\": \"B-30003\", \"Amount\": 1500, \"Profit\": 300, \"Quantity\": 2, \"Category\": \"Home\", \"Sub-Category\": \"Furniture\", \"PaymentMode\": \"PIX\", \"Order Date\": \"2023-05-20\", \"CustomerName\": \"Maria Santos\", \"State\": \"Florida\", \"City\": \"Miami\", \"Year-Month\": \"2023-05\"},\n",
    "    {\"Order ID\": \"B-30004\", \"Amount\": 3500, \"Profit\": 700, \"Quantity\": 5, \"Category\": \"Office\", \"Sub-Category\": \"Stationery\", \"PaymentMode\": \"Debit Card\", \"Order Date\": \"2023-06-01\", \"CustomerName\": \"Pedro Alves\", \"State\": \"Nevada\", \"City\": \"Las Vegas\", \"Year-Month\": \"2023-06\"},\n",
    "    {\"Order ID\": \"B-30005\", \"Amount\": 2200, \"Profit\": 400, \"Quantity\": 4, \"Category\": \"Clothing\", \"Sub-Category\": \"Shoes\", \"PaymentMode\": \"UPI\", \"Order Date\": \"2023-06-22\", \"CustomerName\": \"Clara Costa\", \"State\": \"New York\", \"City\": \"New York\", \"Year-Month\": \"2023-06\"}\n",
    "]\n",
    "\n",
    "collection.insert_many(extras)\n",
    "print(\"5 documentos extras inseridos.\")\n"
   ]
  },
  {
   "cell_type": "markdown",
   "id": "bd551d65",
   "metadata": {},
   "source": [
    "Insere um dado na Coleção"
   ]
  },
  {
   "cell_type": "code",
   "execution_count": 260,
   "id": "be9d41c4",
   "metadata": {},
   "outputs": [],
   "source": [
    "def insert_document(document):\n",
    "    inserted = collection.insert_one(document)\n",
    "    document[\"_id\"] = inserted.inserted_id\n",
    "    return document"
   ]
  },
  {
   "cell_type": "markdown",
   "id": "6e202027",
   "metadata": {},
   "source": [
    "Deleta um dado dentro da Coleção"
   ]
  },
  {
   "cell_type": "code",
   "execution_count": 261,
   "id": "80041c1a",
   "metadata": {},
   "outputs": [],
   "source": [
    "def delete_registry(field, value):\n",
    "    if field == \"_id\":\n",
    "        value = ObjectId(value)\n",
    "    result = collection.delete_one({field: value})\n",
    "    print(f\"Deletado(s): {result.deleted_count} registro(s) onde {field} = {value}\")"
   ]
  },
  {
   "cell_type": "markdown",
   "id": "ffc4e79b",
   "metadata": {},
   "source": [
    "Edita um dado dentro da Coleção"
   ]
  },
  {
   "cell_type": "code",
   "execution_count": 262,
   "id": "2766d26b",
   "metadata": {},
   "outputs": [],
   "source": [
    "def update_registry(field, value, updates: dict):\n",
    "    result = collection.update_one(\n",
    "        {field: value},\n",
    "        {\"$set\": updates}\n",
    "    )\n",
    "    if result.modified_count > 0:\n",
    "        print(f\"Registro atualizado com sucesso: {field} = {value}\")\n",
    "    else:\n",
    "        print(f\"Nenhum registro atualizado para o valor: {value}\")"
   ]
  },
  {
   "cell_type": "markdown",
   "id": "feb9e28e",
   "metadata": {},
   "source": [
    "Retorna uma Lista de Documentos partindo de um filtro"
   ]
  },
  {
   "cell_type": "code",
   "execution_count": 263,
   "id": "1859d107",
   "metadata": {},
   "outputs": [],
   "source": [
    "def select_many_gt(field, value):\n",
    "        collection = db.get_collection(collection_name)\n",
    "        data = collection.find({\n",
    "            field : {\"$gt\" : value}}\n",
    "        )\n",
    "\n",
    "        response = []\n",
    "        for elem in data: response.append(elem)\n",
    "\n",
    "        return response"
   ]
  },
  {
   "cell_type": "markdown",
   "id": "2cc5990f",
   "metadata": {},
   "source": [
    "Busca por um Especifico dado na Coleção"
   ]
  },
  {
   "cell_type": "code",
   "execution_count": 264,
   "id": "976cd423",
   "metadata": {},
   "outputs": [],
   "source": [
    "def select_one(field, value):\n",
    "        collection = db.get_collection(collection_name)\n",
    "        response = collection.find_one({field:value})\n",
    "        return response"
   ]
  },
  {
   "cell_type": "markdown",
   "id": "18c93fd5",
   "metadata": {},
   "source": [
    "Busca documentos se existir o campo de prioridade"
   ]
  },
  {
   "cell_type": "code",
   "execution_count": 265,
   "id": "f99a7c51",
   "metadata": {},
   "outputs": [],
   "source": [
    "def select_if_property_exists(field):\n",
    "        collection = db.get_collection(collection_name)\n",
    "        data = collection.find({field : { \"$exists\": True } })\n",
    "        for elem in data: print(elem)"
   ]
  },
  {
   "cell_type": "markdown",
   "id": "8dc7ca97",
   "metadata": {},
   "source": [
    "Inserindo Dados"
   ]
  },
  {
   "cell_type": "code",
   "execution_count": 266,
   "id": "85130886",
   "metadata": {},
   "outputs": [
    {
     "data": {
      "text/plain": [
       "{'Order ID': 'B-26780',\n",
       " 'Amount': 7850,\n",
       " 'Profit': 1100,\n",
       " 'Quantity': 4,\n",
       " 'Category': 'Electronics',\n",
       " 'Sub-Category': 'Laptops',\n",
       " 'PaymentMode': 'Debit Card',\n",
       " 'Order Date': '2023-07-03',\n",
       " 'CustomerName': 'Lucas Nascimento',\n",
       " 'State': 'Nevada',\n",
       " 'City': 'Las Vegas',\n",
       " 'Year-Month': '2023-07',\n",
       " '_id': ObjectId('683fa77436368379af7677b4')}"
      ]
     },
     "execution_count": 266,
     "metadata": {},
     "output_type": "execute_result"
    }
   ],
   "source": [
    "insert_document({\n",
    "    \"Order ID\": \"B-26776\",\n",
    "    \"Amount\": 9726,\n",
    "    \"Profit\": 1275,\n",
    "    \"Quantity\": 5,\n",
    "    \"Category\": \"Electronics\",\n",
    "    \"Sub-Category\": \"Electronic Games\",\n",
    "    \"PaymentMode\": \"UPI\",\n",
    "    \"Order Date\": \"2023-06-27\",\n",
    "    \"CustomerName\": \"David Padilla\",\n",
    "    \"State\": \"Florida\",\n",
    "    \"City\": \"Miami\",\n",
    "    \"Year-Month\": \"2023-06\"\n",
    "})\n",
    "\n",
    "insert_document({\n",
    "    \"Order ID\": \"B-26777\",\n",
    "    \"Amount\": 1890,\n",
    "    \"Profit\": 320,\n",
    "    \"Quantity\": 2,\n",
    "    \"Category\": \"Clothing\",\n",
    "    \"Sub-Category\": \"Shirts\",\n",
    "    \"PaymentMode\": \"Credit Card\",\n",
    "    \"Order Date\": \"2023-06-28\",\n",
    "    \"CustomerName\": \"Sarah Lee\",\n",
    "    \"State\": \"California\",\n",
    "    \"City\": \"San Diego\",\n",
    "    \"Year-Month\": \"2023-06\"\n",
    "})\n",
    "\n",
    "insert_document({\n",
    "    \"Order ID\": \"B-26778\",\n",
    "    \"Amount\": 3450,\n",
    "    \"Profit\": 780,\n",
    "    \"Quantity\": 3,\n",
    "    \"Category\": \"Home\",\n",
    "    \"Sub-Category\": \"Kitchen\",\n",
    "    \"PaymentMode\": \"Cash\",\n",
    "    \"Order Date\": \"2023-07-01\",\n",
    "    \"CustomerName\": \"Carlos Souza\",\n",
    "    \"State\": \"Texas\",\n",
    "    \"City\": \"Austin\",\n",
    "    \"Year-Month\": \"2023-07\"\n",
    "})\n",
    "\n",
    "insert_document({\n",
    "    \"Order ID\": \"B-26779\",\n",
    "    \"Amount\": 2175,\n",
    "    \"Profit\": 450,\n",
    "    \"Quantity\": 1,\n",
    "    \"Category\": \"Office\",\n",
    "    \"Sub-Category\": \"Chairs\",\n",
    "    \"PaymentMode\": \"PIX\",\n",
    "    \"Order Date\": \"2023-07-02\",\n",
    "    \"CustomerName\": \"Amanda Torres\",\n",
    "    \"State\": \"New York\",\n",
    "    \"City\": \"Buffalo\",\n",
    "    \"Year-Month\": \"2023-07\"\n",
    "})\n",
    "\n",
    "insert_document({\n",
    "    \"Order ID\": \"B-26780\",\n",
    "    \"Amount\": 7850,\n",
    "    \"Profit\": 1100,\n",
    "    \"Quantity\": 4,\n",
    "    \"Category\": \"Electronics\",\n",
    "    \"Sub-Category\": \"Laptops\",\n",
    "    \"PaymentMode\": \"Debit Card\",\n",
    "    \"Order Date\": \"2023-07-03\",\n",
    "    \"CustomerName\": \"Lucas Nascimento\",\n",
    "    \"State\": \"Nevada\",\n",
    "    \"City\": \"Las Vegas\",\n",
    "    \"Year-Month\": \"2023-07\"\n",
    "})"
   ]
  },
  {
   "cell_type": "markdown",
   "id": "c89d7e59",
   "metadata": {},
   "source": [
    "Deletando Dados"
   ]
  },
  {
   "cell_type": "code",
   "execution_count": 267,
   "id": "11d9655e",
   "metadata": {},
   "outputs": [
    {
     "name": "stdout",
     "output_type": "stream",
     "text": [
      "Deletado(s): 0 registro(s) onde _id = 683f88cb61bfd8c45e58a072\n",
      "Deletado(s): 1 registro(s) onde Order ID = B-25350\n",
      "Deletado(s): 1 registro(s) onde CustomerName = Samuel Little MD\n",
      "Deletado(s): 1 registro(s) onde City = Buffalo\n",
      "Deletado(s): 1 registro(s) onde Amount = 914\n"
     ]
    }
   ],
   "source": [
    "delete_registry(\"_id\", \"683f88cb61bfd8c45e58a072\")\n",
    "delete_registry(\"Order ID\", \"B-25350\")\n",
    "delete_registry(\"CustomerName\", \"Samuel Little MD\")\n",
    "delete_registry(\"City\", \"Buffalo\")\n",
    "delete_registry(\"Amount\", 914)"
   ]
  },
  {
   "cell_type": "markdown",
   "id": "8d25d9ee",
   "metadata": {},
   "source": [
    "Atualizações de Dados"
   ]
  },
  {
   "cell_type": "code",
   "execution_count": 268,
   "id": "2eee639d",
   "metadata": {},
   "outputs": [
    {
     "name": "stdout",
     "output_type": "stream",
     "text": [
      "Registro atualizado com sucesso: Order ID = B-26776\n",
      "Registro atualizado com sucesso: Order ID = B-26778\n",
      "Registro atualizado com sucesso: Order ID = B-26779\n",
      "Registro atualizado com sucesso: Order ID = B-26780\n",
      "Registro atualizado com sucesso: Order ID = B-26776\n"
     ]
    }
   ],
   "source": [
    "# 1. Aumentar o “Profit” do pedido B-26776 para 1500\n",
    "update_registry(\n",
    "    \"Order ID\",\n",
    "    \"B-26776\",\n",
    "    {\"Profit\": 1500}\n",
    ")\n",
    "\n",
    "# 2. Alterar o “City” do pedido B-26778 de “Austin” para “Houston”\n",
    "update_registry(\n",
    "    \"Order ID\",\n",
    "    \"B-26778\",\n",
    "    {\"City\": \"Houston\"}\n",
    ")\n",
    "\n",
    "# 3. Mudar o “PaymentMode” do pedido B-26779 de “PIX” para “Credit Card”\n",
    "update_registry(\n",
    "    \"Order ID\",\n",
    "    \"B-26779\",\n",
    "    {\"PaymentMode\": \"Credit Card\"}\n",
    ")\n",
    "\n",
    "# 4. Atualizar o “Quantity” do pedido B-26780 para 6\n",
    "update_registry(\n",
    "    \"Order ID\",\n",
    "    \"B-26780\",\n",
    "    {\"Quantity\": 6}\n",
    ")\n",
    "\n",
    "# 5. Mudar tanto o “Amount” quanto o “Profit” do pedido B-26776\n",
    "update_registry(\n",
    "    \"Order ID\",\n",
    "    \"B-26776\",\n",
    "    {\n",
    "        \"Amount\": 10000,\n",
    "        \"Profit\": 1800\n",
    "    }\n",
    ")"
   ]
  },
  {
   "cell_type": "markdown",
   "id": "9e564a80",
   "metadata": {},
   "source": [
    "Lista Pedidos Com Quantidade Acima de 5 "
   ]
  },
  {
   "cell_type": "code",
   "execution_count": 269,
   "id": "8bb63ccb",
   "metadata": {},
   "outputs": [
    {
     "name": "stdout",
     "output_type": "stream",
     "text": [
      "    Order ID  Amount  Profit  Quantity         Category Sub-Category  \\\n",
      "0    B-26776    4975    1330        14      Electronics     Printers   \n",
      "1    B-26776    4975    1330        14      Electronics     Printers   \n",
      "2    B-26776    4975    1330        14      Electronics     Printers   \n",
      "3    B-26942    1525     185        12  Office Supplies         Pens   \n",
      "4    B-26942    1525     185        12  Office Supplies         Pens   \n",
      "..       ...     ...     ...       ...              ...          ...   \n",
      "895  B-26298    2082     642         8      Electronics       Phones   \n",
      "896  B-26298    2082     642         8      Electronics       Phones   \n",
      "897  B-25068     914     163        13  Office Supplies      Markers   \n",
      "898  B-30002    4500     900         7      Electronics       Phones   \n",
      "899  B-26780    7850    1100         6      Electronics      Laptops   \n",
      "\n",
      "    PaymentMode  Order Date        CustomerName       State         City  \\\n",
      "0           UPI  2023-06-27       David Padilla     Florida        Miami   \n",
      "1           UPI  2024-12-27       Connor Morgan    Illinois      Chicago   \n",
      "2           UPI  2021-07-25        Robert Stone    New York      Buffalo   \n",
      "3    Debit Card  2024-05-11         John Fields     Florida      Orlando   \n",
      "4    Debit Card  2021-10-09       Clayton Smith     Florida        Miami   \n",
      "..          ...         ...                 ...         ...          ...   \n",
      "895         EMI  2022-12-15       Jenna Holland       Texas       Austin   \n",
      "896         EMI  2020-08-07  Stephanie Oconnell    New York      Buffalo   \n",
      "897         UPI  2024-10-26         Andrea Hill    Illinois      Chicago   \n",
      "898        Cash  2023-07-10          João Pedro  California  Los Angeles   \n",
      "899  Debit Card  2023-07-03    Lucas Nascimento      Nevada    Las Vegas   \n",
      "\n",
      "    Year-Month  \n",
      "0      2023-06  \n",
      "1      2024-12  \n",
      "2      2021-07  \n",
      "3      2024-05  \n",
      "4      2021-10  \n",
      "..         ...  \n",
      "895    2022-12  \n",
      "896    2020-08  \n",
      "897    2024-10  \n",
      "898    2023-07  \n",
      "899    2023-07  \n",
      "\n",
      "[900 rows x 12 columns]\n"
     ]
    }
   ],
   "source": [
    "#large_order = select_many_gt(\"Quantity\", 5)\n",
    "#for order in large_order:\n",
    "#   print(order)\n",
    "\n",
    "# Executa a consulta\n",
    "large_order = select_many_gt(\"Quantity\", 5)\n",
    "# Cria um DataFrame com os resultados\n",
    "df = pd.DataFrame(large_order)\n",
    "# (Opcional) Remove a coluna \"_id\" se não quiser exibi-la\n",
    "if '_id' in df.columns:\n",
    "    df.drop(columns=['_id'], inplace=True)\n",
    "# Exibe a tabela formatada\n",
    "print(df)"
   ]
  },
  {
   "cell_type": "markdown",
   "id": "ef11d1e6",
   "metadata": {},
   "source": [
    "Listando um Dado por Order ID"
   ]
  },
  {
   "cell_type": "code",
   "execution_count": 270,
   "id": "1cd66a90",
   "metadata": {},
   "outputs": [
    {
     "name": "stdout",
     "output_type": "stream",
     "text": [
      "{'_id': ObjectId('683fa77336368379af767301'), 'Order ID': 'B-26776', 'Amount': 10000, 'Profit': 1800, 'Quantity': 5, 'Category': 'Electronics', 'Sub-Category': 'Electronic Games', 'PaymentMode': 'UPI', 'Order Date': '2023-06-27', 'CustomerName': 'David Padilla', 'State': 'Florida', 'City': 'Miami', 'Year-Month': '2023-06'}\n"
     ]
    }
   ],
   "source": [
    "order = select_one(\"Order ID\", \"B-26776\")\n",
    "print(order)"
   ]
  },
  {
   "cell_type": "markdown",
   "id": "7d5a99f7",
   "metadata": {},
   "source": [
    "Listando um Campo que Exista"
   ]
  },
  {
   "cell_type": "code",
   "execution_count": 271,
   "id": "f1e30d89",
   "metadata": {},
   "outputs": [],
   "source": [
    "# select_if_property_exists(\"City\")"
   ]
  },
  {
   "cell_type": "markdown",
   "id": "9d2f8f4a",
   "metadata": {},
   "source": [
    "Soma total do lucro (Profit) por categoria"
   ]
  },
  {
   "cell_type": "code",
   "execution_count": 272,
   "id": "afae3f14",
   "metadata": {},
   "outputs": [],
   "source": [
    "def sumTotalProfit():\n",
    "     pipeline_sum_profit = [\n",
    "        {\"$group\": {\"_id\": \"$Category\", \"total_profit\": {\"$sum\": \"$Profit\"}}}\n",
    "    ]\n",
    "     result = list(collection.aggregate(pipeline_sum_profit))\n",
    "     return result"
   ]
  },
  {
   "cell_type": "markdown",
   "id": "6de1d1ee",
   "metadata": {},
   "source": [
    "Resultado de sumTotalProfit"
   ]
  },
  {
   "cell_type": "code",
   "execution_count": 273,
   "id": "57240ef3",
   "metadata": {},
   "outputs": [
    {
     "name": "stdout",
     "output_type": "stream",
     "text": [
      "          Category  Total Profit\n",
      "0        Furniture        540459\n",
      "1             Home          1080\n",
      "2           Office          1150\n",
      "3         Clothing          1220\n",
      "4  Office Supplies        551175\n",
      "5      Electronics        520859\n"
     ]
    }
   ],
   "source": [
    "result = sumTotalProfit()\n",
    "# Transforma em DataFrame\n",
    "df = pd.DataFrame(result)\n",
    "# Renomeia colunas\n",
    "df.rename(columns={'_id': 'Category', 'total_profit': 'Total Profit'}, inplace=True)\n",
    "# Arredonda os valores se quiser (opcional)\n",
    "df['Total Profit'] = df['Total Profit'].round(2)\n",
    "# Exibe o resultado formatado\n",
    "print(df)"
   ]
  },
  {
   "cell_type": "markdown",
   "id": "5081f257",
   "metadata": {},
   "source": [
    " Média de quantidade (Quantity) por método de pagamento"
   ]
  },
  {
   "cell_type": "code",
   "execution_count": 274,
   "id": "d8b91994",
   "metadata": {},
   "outputs": [],
   "source": [
    "def avgQuantityByPaymentMode():\n",
    "    pipeline_avg_quantity = [\n",
    "        {\"$group\": {\"_id\": \"$PaymentMode\", \"avg_quantity\": {\"$avg\": \"$Quantity\"}}}\n",
    "    ]\n",
    "    result = list(collection.aggregate(pipeline_avg_quantity))\n",
    "    return result"
   ]
  },
  {
   "cell_type": "markdown",
   "id": "e20c123f",
   "metadata": {},
   "source": [
    "Resultado de avgQuantityByPaymentMode"
   ]
  },
  {
   "cell_type": "code",
   "execution_count": 275,
   "id": "c1252f99",
   "metadata": {},
   "outputs": [
    {
     "name": "stdout",
     "output_type": "stream",
     "text": [
      "  Payment Method  Average Quantity\n",
      "0            COD             10.64\n",
      "1            PIX              2.00\n",
      "2            UPI             10.79\n",
      "3           Cash              5.00\n",
      "4            EMI             10.88\n",
      "5    Credit Card             10.33\n",
      "6     Debit Card             10.66\n"
     ]
    }
   ],
   "source": [
    "result = avgQuantityByPaymentMode()\n",
    "# Transforma em DataFrame\n",
    "df = pd.DataFrame(result)\n",
    "# Renomeia colunas\n",
    "df.rename(columns={'_id': 'Payment Method', 'avg_quantity': 'Average Quantity'}, inplace=True)\n",
    "# Arredonda os valores\n",
    "df['Average Quantity'] = df['Average Quantity'].round(2)\n",
    "# Exibe o resultado formatado\n",
    "print(df)"
   ]
  },
  {
   "cell_type": "markdown",
   "id": "0e6fc232",
   "metadata": {},
   "source": [
    " Carregar dados do MongoDB para DataFrame"
   ]
  },
  {
   "cell_type": "code",
   "execution_count": 276,
   "id": "53cc68a3",
   "metadata": {},
   "outputs": [],
   "source": [
    "data = list(collection.find({}, {\"_id\": 0}))  # remove o _id\n",
    "df = pd.DataFrame(data)\n"
   ]
  },
  {
   "cell_type": "markdown",
   "id": "0fffd527",
   "metadata": {},
   "source": [
    "Frequência da categoria"
   ]
  },
  {
   "cell_type": "code",
   "execution_count": 277,
   "id": "20386c34",
   "metadata": {},
   "outputs": [
    {
     "name": "stdout",
     "output_type": "stream",
     "text": [
      "Category\n",
      "Furniture          406\n",
      "Office Supplies    398\n",
      "Electronics        389\n",
      "Clothing             3\n",
      "Home                 2\n",
      "Office               2\n",
      "Name: count, dtype: int64\n"
     ]
    }
   ],
   "source": [
    "freq_category = df[\"Category\"].value_counts()\n",
    "print(freq_category)"
   ]
  },
  {
   "cell_type": "markdown",
   "id": "99406224",
   "metadata": {},
   "source": [
    "Estatísticas descritivas"
   ]
  },
  {
   "cell_type": "code",
   "execution_count": 278,
   "id": "21e21db2",
   "metadata": {},
   "outputs": [
    {
     "name": "stdout",
     "output_type": "stream",
     "text": [
      "             Amount       Profit     Quantity\n",
      "count   1200.000000  1200.000000  1200.000000\n",
      "mean    5169.032500  1346.619167    10.634167\n",
      "std     2801.174823  1115.965002     5.790648\n",
      "min      508.000000    50.000000     1.000000\n",
      "25%     2797.250000   410.000000     5.750000\n",
      "50%     5146.500000  1013.000000    11.000000\n",
      "75%     7626.000000  2023.000000    16.000000\n",
      "max    10000.000000  4930.000000    20.000000\n"
     ]
    }
   ],
   "source": [
    "stats = df[[\"Amount\", \"Profit\", \"Quantity\"]].describe()\n",
    "print(stats)"
   ]
  },
  {
   "cell_type": "markdown",
   "id": "87639b8d",
   "metadata": {},
   "source": [
    "Produtos mais vendidos"
   ]
  },
  {
   "cell_type": "code",
   "execution_count": 279,
   "id": "a109ac60",
   "metadata": {},
   "outputs": [],
   "source": [
    "def get_top_10_most_sold(df: pd.DataFrame) -> pd.DataFrame:\n",
    "\n",
    "    most_sold = df.groupby(\"Sub-Category\")[\"Quantity\"].sum().reset_index()\n",
    "    most_sold = most_sold.sort_values(by=\"Quantity\", ascending=False)\n",
    "    top_10 = most_sold.head(10)\n",
    "    return top_10"
   ]
  },
  {
   "cell_type": "code",
   "execution_count": 280,
   "id": "0e94abbd",
   "metadata": {},
   "outputs": [
    {
     "name": "stdout",
     "output_type": "stream",
     "text": [
      "        Sub-Category  Quantity\n",
      "16            Tables      1303\n",
      "14             Sofas      1229\n",
      "3   Electronic Games      1215\n",
      "9               Pens      1196\n",
      "7            Markers      1173\n",
      "11          Printers      1124\n",
      "1          Bookcases      1030\n",
      "10            Phones       987\n",
      "8              Paper       981\n",
      "6            Laptops       940\n"
     ]
    }
   ],
   "source": [
    "top_10 = get_top_10_most_sold(df)\n",
    "print(top_10)"
   ]
  },
  {
   "cell_type": "markdown",
   "id": "db07c299",
   "metadata": {},
   "source": [
    "Regiões com maior volume de vendas"
   ]
  },
  {
   "cell_type": "code",
   "execution_count": 281,
   "id": "5793488d",
   "metadata": {},
   "outputs": [],
   "source": [
    "def get_region_sales(df: pd.DataFrame) -> pd.DataFrame:\n",
    "    region_sales = df.groupby('State')['Amount'].sum().reset_index()\n",
    "    region_sales = region_sales.sort_values(by='Amount', ascending=False)\n",
    "    return region_sales\n"
   ]
  },
  {
   "cell_type": "code",
   "execution_count": 282,
   "id": "36aefeca",
   "metadata": {},
   "outputs": [
    {
     "name": "stdout",
     "output_type": "stream",
     "text": [
      "        State   Amount\n",
      "4    New York  1124697\n",
      "1     Florida  1102674\n",
      "0  California  1091912\n",
      "6       Texas  1009226\n",
      "2    Illinois   978212\n",
      "5        Ohio   884768\n",
      "3      Nevada    11350\n"
     ]
    }
   ],
   "source": [
    "get_region_sales_result = get_region_sales(df)\n",
    "print(get_region_sales_result)\n"
   ]
  },
  {
   "cell_type": "markdown",
   "id": "c3d70e3a",
   "metadata": {},
   "source": [
    "Métodos de pagamento predominantes"
   ]
  },
  {
   "cell_type": "code",
   "execution_count": 283,
   "id": "a26c097c",
   "metadata": {},
   "outputs": [],
   "source": [
    "def aggregate_payment_mode_sales(df: pd.DataFrame) -> pd.DataFrame:\n",
    "  \n",
    "    payment_mode_totals = df.groupby(\"PaymentMode\")[\"Amount\"].sum().reset_index()\n",
    "    payment_mode_totals = payment_mode_totals.sort_values(by=\"Amount\", ascending=False)\n",
    "    return payment_mode_totals"
   ]
  },
  {
   "cell_type": "code",
   "execution_count": 284,
   "id": "9faa8948",
   "metadata": {},
   "outputs": [
    {
     "name": "stdout",
     "output_type": "stream",
     "text": [
      "   PaymentMode   Amount\n",
      "3   Debit Card  1397772\n",
      "2  Credit Card  1286583\n",
      "6          UPI  1252947\n",
      "0          COD  1141790\n",
      "4          EMI  1114297\n",
      "1         Cash     7950\n",
      "5          PIX     1500\n"
     ]
    }
   ],
   "source": [
    "payment_mode_sales_df = aggregate_payment_mode_sales(df)\n",
    "print(payment_mode_sales_df)"
   ]
  },
  {
   "cell_type": "markdown",
   "id": "509c316c",
   "metadata": {},
   "source": [
    "Produtos mais vendidos"
   ]
  },
  {
   "cell_type": "code",
   "execution_count": 285,
   "id": "978420ba",
   "metadata": {},
   "outputs": [
    {
     "name": "stdout",
     "output_type": "stream",
     "text": [
      "Produtos mais vendidos:\n",
      "Sub-Category\n",
      "Tables              1303\n",
      "Sofas               1229\n",
      "Electronic Games    1215\n",
      "Pens                1196\n",
      "Markers             1173\n",
      "Printers            1124\n",
      "Bookcases           1030\n",
      "Phones               987\n",
      "Paper                981\n",
      "Laptops              940\n",
      "Chairs               876\n",
      "Binders              688\n",
      "Shirts                 5\n",
      "Stationery             5\n",
      "Shoes                  4\n",
      "Kitchen                3\n",
      "Furniture              2\n",
      "Name: Quantity, dtype: int64\n",
      "\n",
      "Recomendação: Comprar mais dos 5 produtos mais vendidos:\n",
      "Sub-Category\n",
      "Tables              1303\n",
      "Sofas               1229\n",
      "Electronic Games    1215\n",
      "Pens                1196\n",
      "Markers             1173\n",
      "Name: Quantity, dtype: int64\n"
     ]
    }
   ],
   "source": [
    "# Agrupa por Sub-Category (ou Category) somando a quantidade vendida\n",
    "top_products = df.groupby(\"Sub-Category\")[\"Quantity\"].sum().sort_values(ascending=False)\n",
    "\n",
    "print(\"Produtos mais vendidos:\")\n",
    "print(top_products)\n",
    "\n",
    "# Para recomendar: compre mais dos top N produtos\n",
    "top_n = 5\n",
    "print(f\"\\nRecomendação: Comprar mais dos {top_n} produtos mais vendidos:\")\n",
    "print(top_products.head(top_n))\n"
   ]
  },
  {
   "cell_type": "markdown",
   "id": "645ba568",
   "metadata": {},
   "source": [
    "Gráfico de barras - frequência por categoria"
   ]
  },
  {
   "cell_type": "code",
   "execution_count": 286,
   "id": "1d1624a3",
   "metadata": {},
   "outputs": [
    {
     "data": {
      "image/png": "[encoded data removed]",
      "text/plain": [
       "<Figure size 640x480 with 1 Axes>"
      ]
     },
     "metadata": {},
     "output_type": "display_data"
    }
   ],
   "source": [
    "\n",
    "freq_category.plot(kind=\"bar\")\n",
    "plt.title(\"Frequência de Vendas por Categoria\")\n",
    "plt.xlabel(\"Categoria\")\n",
    "plt.ylabel(\"Número de Vendas\")\n",
    "plt.show()\n"
   ]
  },
  {
   "cell_type": "markdown",
   "id": "a2f93534",
   "metadata": {},
   "source": [
    "Participação percentual de cada categoria no total do valor de \"Amount\""
   ]
  },
  {
   "cell_type": "code",
   "execution_count": 287,
   "id": "f61cf646",
   "metadata": {},
   "outputs": [
    {
     "data": {
      "image/png": "[encoded data removed]",
      "text/plain": [
       "<Figure size 800x800 with 1 Axes>"
      ]
     },
     "metadata": {},
     "output_type": "display_data"
    }
   ],
   "source": [
    "grouped_df = df.groupby(\"Category\")[\"Amount\"].sum().reset_index()\n",
    "\n",
    "# Dados para o gráfico\n",
    "labels = grouped_df[\"Category\"]\n",
    "sizes = grouped_df[\"Amount\"]\n",
    "\n",
    "plt.figure(figsize=(8, 8))\n",
    "plt.pie(sizes, labels=labels, autopct='%1.1f%%', startangle=140, shadow=True)\n",
    "plt.title(\"Distribuição do Total de Amount por Categoria\")\n",
    "plt.axis('equal')  \n",
    "plt.show()\n"
   ]
  }
 ],
 "metadata": {
  "kernelspec": {
   "display_name": ".venv",
   "language": "python",
   "name": "python3"
  },
  "language_info": {
   "codemirror_mode": {
    "name": "ipython",
    "version": 3
   },
   "file_extension": ".py",
   "mimetype": "text/x-python",
   "name": "python",
   "nbconvert_exporter": "python",
   "pygments_lexer": "ipython3",
   "version": "3.12.3"
  }
 },
 "nbformat": 4,
 "nbformat_minor": 5
}
